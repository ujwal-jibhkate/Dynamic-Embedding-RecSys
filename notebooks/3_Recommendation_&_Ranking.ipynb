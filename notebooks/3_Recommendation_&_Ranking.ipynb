{
  "nbformat": 4,
  "nbformat_minor": 0,
  "metadata": {
    "colab": {
      "provenance": [],
      "gpuType": "T4"
    },
    "kernelspec": {
      "name": "python3",
      "display_name": "Python 3"
    },
    "language_info": {
      "name": "python"
    },
    "accelerator": "GPU"
  },
  "cells": [
    {
      "cell_type": "code",
      "source": [
        "# mount the drives\n",
        "from google.colab import drive\n",
        "drive.mount('/content/drive')"
      ],
      "metadata": {
        "colab": {
          "base_uri": "https://localhost:8080/"
        },
        "id": "rEiyTLjkZdFg",
        "outputId": "7462a34f-0e7e-4a6d-a8a5-09a27f4c2312"
      },
      "execution_count": null,
      "outputs": [
        {
          "output_type": "stream",
          "name": "stdout",
          "text": [
            "Mounted at /content/drive\n"
          ]
        }
      ]
    },
    {
      "cell_type": "code",
      "source": [
        "import pandas as pd\n",
        "import numpy as np\n",
        "import torch\n",
        "import torch.nn as nn\n",
        "from torch.utils.data import Dataset, DataLoader\n",
        "from tqdm.notebook import tqdm\n",
        "import os\n",
        "import faiss # Facebook AI Similarity Search\n",
        "import warnings\n",
        "from sklearn.metrics.pairwise import cosine_similarity\n",
        "\n",
        "warnings.filterwarnings('ignore')"
      ],
      "metadata": {
        "id": "pHTTk7QOam9m"
      },
      "execution_count": null,
      "outputs": []
    },
    {
      "cell_type": "code",
      "source": [
        "# --- 1. Configuration and Loading ---\n",
        "print(\"✅ 1. Loading Prerequisite Data...\")\n",
        "\n",
        "\n",
        "DRIVE_BASE_PATH = '/content/drive/MyDrive/Embedding_Based_Recommendations_Project/Datasets/final_datasets/'\n",
        "USER_EMBEDDINGS_PATH = os.path.join(DRIVE_BASE_PATH, 'final_user_embeddings.parquet')\n",
        "MOVIE_EMBEDDINGS_PATH = os.path.join(DRIVE_BASE_PATH, 'movie_content_embeddings_multitask.parquet')\n",
        "USER_INTERACTIONS_PATH = os.path.join(DRIVE_BASE_PATH, 'user_movie_interactions.parquet')\n",
        "TWO_TOWER_MODEL_PATH = os.path.join(DRIVE_BASE_PATH, 'two_tower_model.pth')\n",
        "\n",
        "\n",
        "# Load data\n",
        "user_embs_df = pd.read_parquet(USER_EMBEDDINGS_PATH)\n",
        "movies_df = pd.read_parquet(MOVIE_EMBEDDINGS_PATH)\n",
        "interactions_df = pd.read_parquet(USER_INTERACTIONS_PATH)\n",
        "\n",
        "movie_embeddings = np.array(movies_df['content_embedding'].tolist())\n",
        "\n",
        "device = \"cuda\" if torch.cuda.is_available() else \"cpu\"\n",
        "print(f\"Data loaded. Using device: {device}\")"
      ],
      "metadata": {
        "colab": {
          "base_uri": "https://localhost:8080/"
        },
        "id": "HtokeQnAZKxS",
        "outputId": "4c8a710e-c4b8-46dd-9325-13f269f7d8c3"
      },
      "execution_count": null,
      "outputs": [
        {
          "output_type": "stream",
          "name": "stdout",
          "text": [
            "✅ 1. Loading Prerequisite Data...\n",
            "Data loaded. Using device: cuda\n"
          ]
        }
      ]
    },
    {
      "cell_type": "code",
      "source": [
        "# --- 2. Two-Tower Model Definition ---\n",
        "class TwoTowerModel(nn.Module):\n",
        "    \"\"\"\n",
        "    A Two-Tower Model that learns a shared embedding space for users and movies.\n",
        "    \"\"\"\n",
        "    def __init__(self, user_dim, item_dim, latent_dim):\n",
        "        super().__init__()\n",
        "        # User tower\n",
        "        self.user_tower = nn.Sequential(\n",
        "            nn.Linear(user_dim, latent_dim * 2),\n",
        "            nn.ReLU(),\n",
        "            nn.Linear(latent_dim * 2, latent_dim)\n",
        "        )\n",
        "        # Item tower\n",
        "        self.item_tower = nn.Sequential(\n",
        "            nn.Linear(item_dim, latent_dim * 2),\n",
        "            nn.ReLU(),\n",
        "            nn.Linear(latent_dim * 2, latent_dim)\n",
        "        )\n",
        "\n",
        "    def forward(self, user_vecs, item_vecs):\n",
        "        user_latent = self.user_tower(user_vecs)\n",
        "        item_latent = self.item_tower(item_vecs)\n",
        "        # L2 normalize the embeddings to use dot product as cosine similarity\n",
        "        user_latent = nn.functional.normalize(user_latent, p=2, dim=1)\n",
        "        item_latent = nn.functional.normalize(item_latent, p=2, dim=1)\n",
        "        return user_latent, item_latent\n",
        "\n",
        "two_tower_model = TwoTowerModel(USER_EMB_DIM, MOVIE_EMB_DIM, LATENT_DIM).to(device)\n",
        "print(f\"\\n✅ 2. Two-Tower model instantiated:\\n{two_tower_model}\")"
      ],
      "metadata": {
        "colab": {
          "base_uri": "https://localhost:8080/"
        },
        "id": "mDRI9Ab0bAqM",
        "outputId": "2546dd6b-b2ce-4a93-8e64-45269061ce4f"
      },
      "execution_count": null,
      "outputs": [
        {
          "output_type": "stream",
          "name": "stdout",
          "text": [
            "\n",
            "✅ 2. Two-Tower model instantiated:\n",
            "TwoTowerModel(\n",
            "  (user_tower): Sequential(\n",
            "    (0): Linear(in_features=512, out_features=256, bias=True)\n",
            "    (1): ReLU()\n",
            "    (2): Linear(in_features=256, out_features=128, bias=True)\n",
            "  )\n",
            "  (item_tower): Sequential(\n",
            "    (0): Linear(in_features=512, out_features=256, bias=True)\n",
            "    (1): ReLU()\n",
            "    (2): Linear(in_features=256, out_features=128, bias=True)\n",
            "  )\n",
            ")\n"
          ]
        }
      ]
    },
    {
      "cell_type": "code",
      "source": [
        "# --- 3. Dataset and Training Loop for the Two-Tower Model ---\n",
        "class RecommenderDataset(Dataset):\n",
        "    \"\"\"Creates positive (user, item) and negative samples for training.\"\"\"\n",
        "    def __init__(self, interactions_df, movies_df):\n",
        "        self.users = interactions_df['userId'].values\n",
        "        self.user_to_watched = {u: w for u, w in zip(interactions_df['userId'], interactions_df['watched_movie_ids'])}\n",
        "        self.all_movie_ids = movies_df['tmdb_id'].values\n",
        "        self.samples = self._create_samples()\n",
        "\n",
        "    def _create_samples(self):\n",
        "        samples = []\n",
        "        for user_id, watched_list in self.user_to_watched.items():\n",
        "            for movie_id in watched_list:\n",
        "                samples.append((user_id, movie_id)) # Add positive samples\n",
        "        return samples\n",
        "\n",
        "    def __len__(self): return len(self.samples)\n",
        "\n",
        "    def __getitem__(self, idx):\n",
        "        user_id, positive_movie_id = self.samples[idx]\n",
        "\n",
        "        # Sample a negative item\n",
        "        while True:\n",
        "            negative_movie_id = np.random.choice(self.all_movie_ids)\n",
        "            if negative_movie_id not in self.user_to_watched[user_id]:\n",
        "                break\n",
        "\n",
        "        return user_id, positive_movie_id, negative_movie_id\n",
        "\n",
        "# Convert data to tensors for easier handling\n",
        "user_embs_tensor = torch.tensor(user_embs_df.values, dtype=torch.float32).to(device)\n",
        "movie_embs_tensor = torch.tensor(movie_embeddings, dtype=torch.float32).to(device)\n",
        "# Create mapping from ID to tensor index\n",
        "user_id_to_idx = {uid: i for i, uid in enumerate(user_embs_df.index)}\n",
        "movie_id_to_idx = {mid: i for i, mid in enumerate(movies_df['tmdb_id'])}\n"
      ],
      "metadata": {
        "id": "epXvNRxZcZ8h"
      },
      "execution_count": null,
      "outputs": []
    },
    {
      "cell_type": "code",
      "source": [
        "# Hyperparameters\n",
        "USER_EMB_DIM = 512\n",
        "MOVIE_EMB_DIM = 512\n",
        "LATENT_DIM = 128  # The dimension of the shared \"matching\" space\n",
        "LEARNING_RATE = 1e-3\n",
        "BATCH_SIZE = 256\n",
        "NUM_EPOCHS = 15\n",
        "\n",
        "# Training function\n",
        "def train_two_tower(model):\n",
        "    print(\"\\n✅ 3. Preparing dataset and training Two-Tower Model...\")\n",
        "    dataset = RecommenderDataset(interactions_df, movies_df)\n",
        "    dataloader = DataLoader(dataset, batch_size=BATCH_SIZE, shuffle=True)\n",
        "    optimizer = torch.optim.Adam(model.parameters(), lr=LEARNING_RATE)\n",
        "    # Using BCEWithLogitsLoss for this contrastive task\n",
        "    loss_fn = nn.BCEWithLogitsLoss()\n",
        "\n",
        "    model.train()\n",
        "    for epoch in range(NUM_EPOCHS):\n",
        "        total_epoch_loss = 0\n",
        "        for user_ids, pos_movie_ids, neg_movie_ids in tqdm(dataloader, desc=f\"Epoch {epoch+1}/{NUM_EPOCHS}\"):\n",
        "            optimizer.zero_grad()\n",
        "\n",
        "            user_indices = [user_id_to_idx[uid.item()] for uid in user_ids]\n",
        "            pos_movie_indices = [movie_id_to_idx[mid.item()] for mid in pos_movie_ids]\n",
        "            neg_movie_indices = [movie_id_to_idx[mid.item()] for mid in neg_movie_ids]\n",
        "\n",
        "            user_vecs = user_embs_tensor[user_indices]\n",
        "            pos_item_vecs = movie_embs_tensor[pos_movie_indices]\n",
        "            neg_item_vecs = movie_embs_tensor[neg_movie_indices]\n",
        "\n",
        "            # Get latent vectors for positive pairs\n",
        "            user_latent, pos_item_latent = model(user_vecs, pos_item_vecs)\n",
        "            pos_scores = torch.sum(user_latent * pos_item_latent, dim=1)\n",
        "\n",
        "            # Get latent vectors for negative pairs\n",
        "            user_latent, neg_item_latent = model(user_vecs, neg_item_vecs)\n",
        "            neg_scores = torch.sum(user_latent * neg_item_latent, dim=1)\n",
        "\n",
        "            loss = loss_fn(pos_scores, torch.ones_like(pos_scores)) + \\\n",
        "                   loss_fn(neg_scores, torch.zeros_like(neg_scores))\n",
        "\n",
        "            loss.backward()\n",
        "            optimizer.step()\n",
        "            total_epoch_loss += loss.item()\n",
        "\n",
        "        avg_loss = total_epoch_loss / len(dataloader)\n",
        "        print(f\"Epoch {epoch+1}/{NUM_EPOCHS}, Average Contrastive Loss: {avg_loss:.4f}\")\n",
        "\n",
        "    torch.save(model.state_dict(), TWO_TOWER_MODEL_PATH)\n",
        "    print(f\"Two-Tower model saved to {TWO_TOWER_MODEL_PATH}\")\n",
        "\n",
        "train_two_tower(two_tower_model)"
      ],
      "metadata": {
        "colab": {
          "base_uri": "https://localhost:8080/",
          "height": 809,
          "referenced_widgets": [
            "d40f5d1e10d9498c8d43f116f70d3ca1",
            "34f5a5867d2b4a4d8af03ea058eacdf9",
            "648a67042584441daf01b134b88f4bd3",
            "af616636c69a43c7be1d44c5a19ea28a",
            "02fa536c9a1842fd9ffae00beff81591",
            "2277e0cc8b144b0ca3f51679a17f0c65",
            "877a15ae40544d8d9f2bf4452d3a2464",
            "6e53752a60014a0c972b91b580ab24ef",
            "993b90d1a81e4c30afc71c4a595bfe9b",
            "9833b2be0cbc44578adf5292803c95c5",
            "faecbfcdd1fc4bfb9b5e436818e78a02",
            "5c620363a84f46edb35b654f7e27fc3e",
            "039a44ba39914fcbb7ca1d054a711ff7",
            "86fc4eda160b466b95dece7382cfbd63",
            "e0b19e766f034202a38bf97c810ea8e5",
            "861cbccd814a4ebb8bf27b39fc7f8d1d",
            "1865c7a22ac04425b82e10f384b4fc56",
            "1451aac35f494c2284c4cf92c9adf8b5",
            "c675a376513f4f0092abd53f1766aea7",
            "05d61c888caf4374a4ffabd6414bf7d6",
            "dd864901423040f680edb881ac651448",
            "d8466b2f64294ac9ad7afea7bddffca6",
            "0527b6ebc38f4c71932edcc2c2f36240",
            "4a460f1857d5496c93d67fbbfe1cf517",
            "ed047df929094fe3a174f1e7fdae4da1",
            "e2f1e44f8c4647a6872e463fc5ef0be5",
            "75e8102f73844d9192c54b6bc0bb6ee6",
            "48f4b6bb83d348cb9b07e220b244bd80",
            "fa67bd74d28b4f8b9c81d74b180f95de",
            "f7d0e085289f4b3bafbf5a78de62ec44",
            "03907a84cafc4a6fb54cd5373ea30682",
            "5f3b9b198c3048c89eccbac40962a19b",
            "10d5eb54650d444a817389419cbe3afd",
            "ee45efb0508248c6a81710b63248001b",
            "366c9c0b34bd4ee281af08c48078c590",
            "8b657d401bb041679c10e4f149f6d6af",
            "3858dd3f00ec4a2a93539c264ac9370f",
            "23beb1e421914ab297a6bdfa715b990a",
            "1a6e6ae4213049048e2a397cb7f2ccb6",
            "9c1533b0f00040fdb87224f389277fd5",
            "d7ebf4a3d3f04ddf921d333a90257408",
            "c51525f87fd64eafa20cb8c7e2e2e75c",
            "132cd31138324919b4a7b96041adfe65",
            "1928e4a0f5cb4bc5bbde5e3cc98f3074",
            "b05f7ec55b3d411b9785f9e085fb62d1",
            "edac6b3f1b7f4289af406c560aa35f5b",
            "0c9cb03f45e64443b211734dbb8ceb72",
            "a6b9b8479e6a445c96cead751c057a46",
            "79e15ecb16c64aae9ef0e4bdcdaf516e",
            "e85fe831cc1943358739bc260a9d3b77",
            "bb7af809be134eea92a5a17c67cce0a2",
            "309a5b386ed34eff946cdcefe588f0e7",
            "953a5e6f79ac47e39aa9abf93d2e1e08",
            "dbe192e6705f48988d52ccd09cd2d301",
            "8c3efa4c0ff742eb87087044fb40202a",
            "7aa8d36c2fba437db9047ba9ef4e8463",
            "e29157d98a9443f5b665c8619212b554",
            "83c270bbb3bd4a7f8d8483ba3a5cf4db",
            "e3dc44b264eb4fc6bfe691b7522e5c52",
            "7aa8c04b9c7e458e870c66c189c18904",
            "3cea8a6c7d4046c1bb9cd5c4b397f64f",
            "b41dd31397c2494daffa4cbb1220b27d",
            "3ca9b08e6c81452dbe0101249fc9b313",
            "dc974f00e8f9438a88b2a0909a96a6f2",
            "b8519d0b303b45f585142b2c94ca2216",
            "9ee431ef6db847559a1e39e2f9fd3c01",
            "8336d20634ea4e07937909dc7e52d1e2",
            "aafbfaff04594149a29ee7a4bcc0aa39",
            "7a92d059c5a148d282569d34565f0cf4",
            "c3db121c5a9d477f8ebdebaedfc63b9f",
            "4ff5c4f13f434eefbf4d8d73bce82860",
            "3551a3d43f924c1a9411c20180e88f0b",
            "c30a1eafe77a4501bafcdae91c0ea17e",
            "257891d30df74426bd4cb275711bf44d",
            "8a43a9e3d18b40809143ef7b3cac5885",
            "391f750ffdf04de99a2e105dab617a63",
            "de9773d4f21840dca8913562cec5c144",
            "514c6645bbbd4afaa9e9077294df3681",
            "f24d7e9d16cd4aad96466a6aa787da48",
            "815c57f8a2164ab89b3b7ac54917b97d",
            "d41b7744d87d44b7bb8b182a36f7781b",
            "57bad2bdc79a49589f5e4cc12466a418",
            "ea5c3a615fad4948ad747aa4f63920cd",
            "2099f0166baa4c48881053e605fd2139",
            "cf7930fcfc004d62ac98a6bae318a400",
            "0d174cfa2d924ac5a13f2aa3c8abcdc3",
            "72e119ce0a014eaba896f2dacbd81f84",
            "eab07f471dd8462aab7ab7f4d3965f5b",
            "5edd3bc38b364b9e82b1f04c2f431703",
            "02389a0f99974aeba9d924ff88d7632e",
            "e9046e86f7f74384a33873dbadb424e8",
            "30ff4caf5e1144e890206ea6a6015193",
            "84e1c94a04104b8ea20b0d4d15498e39",
            "60d24833f5e14076b9be36c6f6220af9",
            "ec3c5c1bb30640358ba0b0f9d98f1c0b",
            "9ff1454d4b154d60a53f41b49a206a3f",
            "7af347d6f5bd4c669de8765fd6fb21f8",
            "e445bb1de4f14090b2c9723ff8dacea2",
            "e554d7b8f6434dea9a49e930eaaa5f95",
            "f0a1062b74dc46e9be79b6da9c1e82d8",
            "9c50afb64eeb4989927399fea190cb65",
            "91ea8b7095ac485187cd667e27b59c78",
            "13058fcc36284708a7f2fa31a4a5fc27",
            "742aa4056fc3409ca6c134d40af7739c",
            "8d3ec0bf571242c98ae43482df0bfac5",
            "327a20ba42ae40b2b30bb4e1df7ca21a",
            "eac1d9cb56644866b6564b4492e52cff",
            "1f397e25494f4deba77cf1701c75bbff",
            "c113add25ace4c78bb8e2e7eebc127e5",
            "dc2db7ce92ca4fa695f3e9db65888764",
            "1a411e8330924d7ab1b4435e6cfe3d85",
            "70098f728c264efc9de055ce1ed871d3",
            "44acc4e8586d4909934074cf1edc93d3",
            "e824a1a68a06475d9a314fe135c3c16e",
            "3bdd5c66b917488f980542374d527af7",
            "e8ad97a4ba2741858c086db40bf0b28c",
            "fbc5e8233f1245738d4b4cdf68d6de26",
            "5e3512d8409542d7a95c9409cca2f4b0",
            "068ae1c2ea4b41c9806b8c164b4825cd",
            "1fa0ea811924479b98def433ca0c96eb",
            "d3d2fb1c43b4483f896a6ecf45115c6e",
            "6f39164237a54d40b39192fbb1e494a2",
            "5490d6c131eb4845ae0251fd4d956a0e",
            "182c3207ac9d4a18a0eff1656df156b5",
            "cba4def5bba64ce1b9d6d5f0cd7bc1b3",
            "138e5fcdc6cd4e0e82570f285dd025a8",
            "d6dbc0534a434beab66771fb098bf5a3",
            "097de980aca449d3b6bc2721f8b235a8",
            "14201c247a494d4e858473fe0bbfd917",
            "260c742f4b294701afd90dd0c78ddd8d",
            "ec7c754154a8487da1dbd5701b17a5c8",
            "d8239d3b44a646b6b0a6feb581276b75",
            "3c2e92b8cbb94509a0cafba6929c8f8d",
            "279836455ece4446a936bc7f27d355b8",
            "a5425c3a653b492b84ce622d85130a81",
            "d1317742d2cb48afb311895fe100526d",
            "8dc26948b7674231a287c1f4c46e7bc5",
            "8d4d0bd69d6e4311bf1a0b5f28d15476",
            "9c5d666df2dd4131b745ef070bcf7cc9",
            "1fc059eae184450ea0222912e39c333b",
            "42de7be0a0034f50ad4816f4e9ecd5ea",
            "f2999d62504741499583fe9e0f46dc0f",
            "9e475986106943b4bd8878a4d081b58e",
            "e21ede0d450e4c32ae981ce3e43fc65c",
            "4b3833eae0d84ddca7940ab911d20809",
            "d503d8eb054d4283a435fd8da410b681",
            "4acbf404a2d24530b060112ec2475983",
            "96bfbe829d744d70991f11fe0eafb19c",
            "2a8ecfd3c13647f696afe10189e4d215",
            "40e1e842a8eb43e1a5538629a4f50218",
            "ba6b6023532f4270a6171b439f41f4bb",
            "7878c1fd2fe243faabdb9414219dfa27",
            "7d3689313e1c444abe9610693d646e5f",
            "e05a88df70724ee58628f79901e575ba",
            "9420b8c8a3bd420eab3b978f58809681",
            "0ceb47e801fb4a119e78a3913080f7c4",
            "432bc25174bb437ab658c149b9c23fd0",
            "fc5a299183144ba68756a914f727a689",
            "ab210ed378e949b98116f689539ad952",
            "a2b7f9ded09c4eff8615ad7e2b27b146",
            "396461c08e40417dbd1c0bc5f3f29840",
            "0cd59d7fa33c4737bd0244900f9f75ed",
            "843eb01dcf5e4bcf82eebbcfe6e809af",
            "e6dea097c8cf423e90c800af0efb5efb",
            "1782d1b635a34c7b96ad959b95965eef"
          ]
        },
        "id": "YWrQY7HkcgZ6",
        "outputId": "a466a600-9376-422a-8308-32bd8ca8bd2e"
      },
      "execution_count": null,
      "outputs": [
        {
          "output_type": "stream",
          "name": "stdout",
          "text": [
            "\n",
            "✅ 3. Preparing dataset and training Two-Tower Model...\n"
          ]
        },
        {
          "output_type": "display_data",
          "data": {
            "text/plain": [
              "Epoch 1/15:   0%|          | 0/15 [00:00<?, ?it/s]"
            ],
            "application/vnd.jupyter.widget-view+json": {
              "version_major": 2,
              "version_minor": 0,
              "model_id": "d40f5d1e10d9498c8d43f116f70d3ca1"
            }
          },
          "metadata": {}
        },
        {
          "output_type": "stream",
          "name": "stdout",
          "text": [
            "Epoch 1/15, Average Contrastive Loss: 1.1657\n"
          ]
        },
        {
          "output_type": "display_data",
          "data": {
            "text/plain": [
              "Epoch 2/15:   0%|          | 0/15 [00:00<?, ?it/s]"
            ],
            "application/vnd.jupyter.widget-view+json": {
              "version_major": 2,
              "version_minor": 0,
              "model_id": "5c620363a84f46edb35b654f7e27fc3e"
            }
          },
          "metadata": {}
        },
        {
          "output_type": "stream",
          "name": "stdout",
          "text": [
            "Epoch 2/15, Average Contrastive Loss: 1.0463\n"
          ]
        },
        {
          "output_type": "display_data",
          "data": {
            "text/plain": [
              "Epoch 3/15:   0%|          | 0/15 [00:00<?, ?it/s]"
            ],
            "application/vnd.jupyter.widget-view+json": {
              "version_major": 2,
              "version_minor": 0,
              "model_id": "0527b6ebc38f4c71932edcc2c2f36240"
            }
          },
          "metadata": {}
        },
        {
          "output_type": "stream",
          "name": "stdout",
          "text": [
            "Epoch 3/15, Average Contrastive Loss: 0.9970\n"
          ]
        },
        {
          "output_type": "display_data",
          "data": {
            "text/plain": [
              "Epoch 4/15:   0%|          | 0/15 [00:00<?, ?it/s]"
            ],
            "application/vnd.jupyter.widget-view+json": {
              "version_major": 2,
              "version_minor": 0,
              "model_id": "ee45efb0508248c6a81710b63248001b"
            }
          },
          "metadata": {}
        },
        {
          "output_type": "stream",
          "name": "stdout",
          "text": [
            "Epoch 4/15, Average Contrastive Loss: 0.9760\n"
          ]
        },
        {
          "output_type": "display_data",
          "data": {
            "text/plain": [
              "Epoch 5/15:   0%|          | 0/15 [00:00<?, ?it/s]"
            ],
            "application/vnd.jupyter.widget-view+json": {
              "version_major": 2,
              "version_minor": 0,
              "model_id": "b05f7ec55b3d411b9785f9e085fb62d1"
            }
          },
          "metadata": {}
        },
        {
          "output_type": "stream",
          "name": "stdout",
          "text": [
            "Epoch 5/15, Average Contrastive Loss: 0.9438\n"
          ]
        },
        {
          "output_type": "display_data",
          "data": {
            "text/plain": [
              "Epoch 6/15:   0%|          | 0/15 [00:00<?, ?it/s]"
            ],
            "application/vnd.jupyter.widget-view+json": {
              "version_major": 2,
              "version_minor": 0,
              "model_id": "7aa8d36c2fba437db9047ba9ef4e8463"
            }
          },
          "metadata": {}
        },
        {
          "output_type": "stream",
          "name": "stdout",
          "text": [
            "Epoch 6/15, Average Contrastive Loss: 0.9294\n"
          ]
        },
        {
          "output_type": "display_data",
          "data": {
            "text/plain": [
              "Epoch 7/15:   0%|          | 0/15 [00:00<?, ?it/s]"
            ],
            "application/vnd.jupyter.widget-view+json": {
              "version_major": 2,
              "version_minor": 0,
              "model_id": "8336d20634ea4e07937909dc7e52d1e2"
            }
          },
          "metadata": {}
        },
        {
          "output_type": "stream",
          "name": "stdout",
          "text": [
            "Epoch 7/15, Average Contrastive Loss: 0.9224\n"
          ]
        },
        {
          "output_type": "display_data",
          "data": {
            "text/plain": [
              "Epoch 8/15:   0%|          | 0/15 [00:00<?, ?it/s]"
            ],
            "application/vnd.jupyter.widget-view+json": {
              "version_major": 2,
              "version_minor": 0,
              "model_id": "514c6645bbbd4afaa9e9077294df3681"
            }
          },
          "metadata": {}
        },
        {
          "output_type": "stream",
          "name": "stdout",
          "text": [
            "Epoch 8/15, Average Contrastive Loss: 0.9158\n"
          ]
        },
        {
          "output_type": "display_data",
          "data": {
            "text/plain": [
              "Epoch 9/15:   0%|          | 0/15 [00:00<?, ?it/s]"
            ],
            "application/vnd.jupyter.widget-view+json": {
              "version_major": 2,
              "version_minor": 0,
              "model_id": "5edd3bc38b364b9e82b1f04c2f431703"
            }
          },
          "metadata": {}
        },
        {
          "output_type": "stream",
          "name": "stdout",
          "text": [
            "Epoch 9/15, Average Contrastive Loss: 0.9124\n"
          ]
        },
        {
          "output_type": "display_data",
          "data": {
            "text/plain": [
              "Epoch 10/15:   0%|          | 0/15 [00:00<?, ?it/s]"
            ],
            "application/vnd.jupyter.widget-view+json": {
              "version_major": 2,
              "version_minor": 0,
              "model_id": "f0a1062b74dc46e9be79b6da9c1e82d8"
            }
          },
          "metadata": {}
        },
        {
          "output_type": "stream",
          "name": "stdout",
          "text": [
            "Epoch 10/15, Average Contrastive Loss: 0.8984\n"
          ]
        },
        {
          "output_type": "display_data",
          "data": {
            "text/plain": [
              "Epoch 11/15:   0%|          | 0/15 [00:00<?, ?it/s]"
            ],
            "application/vnd.jupyter.widget-view+json": {
              "version_major": 2,
              "version_minor": 0,
              "model_id": "1a411e8330924d7ab1b4435e6cfe3d85"
            }
          },
          "metadata": {}
        },
        {
          "output_type": "stream",
          "name": "stdout",
          "text": [
            "Epoch 11/15, Average Contrastive Loss: 0.9020\n"
          ]
        },
        {
          "output_type": "display_data",
          "data": {
            "text/plain": [
              "Epoch 12/15:   0%|          | 0/15 [00:00<?, ?it/s]"
            ],
            "application/vnd.jupyter.widget-view+json": {
              "version_major": 2,
              "version_minor": 0,
              "model_id": "6f39164237a54d40b39192fbb1e494a2"
            }
          },
          "metadata": {}
        },
        {
          "output_type": "stream",
          "name": "stdout",
          "text": [
            "Epoch 12/15, Average Contrastive Loss: 0.9007\n"
          ]
        },
        {
          "output_type": "display_data",
          "data": {
            "text/plain": [
              "Epoch 13/15:   0%|          | 0/15 [00:00<?, ?it/s]"
            ],
            "application/vnd.jupyter.widget-view+json": {
              "version_major": 2,
              "version_minor": 0,
              "model_id": "3c2e92b8cbb94509a0cafba6929c8f8d"
            }
          },
          "metadata": {}
        },
        {
          "output_type": "stream",
          "name": "stdout",
          "text": [
            "Epoch 13/15, Average Contrastive Loss: 0.8952\n"
          ]
        },
        {
          "output_type": "display_data",
          "data": {
            "text/plain": [
              "Epoch 14/15:   0%|          | 0/15 [00:00<?, ?it/s]"
            ],
            "application/vnd.jupyter.widget-view+json": {
              "version_major": 2,
              "version_minor": 0,
              "model_id": "e21ede0d450e4c32ae981ce3e43fc65c"
            }
          },
          "metadata": {}
        },
        {
          "output_type": "stream",
          "name": "stdout",
          "text": [
            "Epoch 14/15, Average Contrastive Loss: 0.8986\n"
          ]
        },
        {
          "output_type": "display_data",
          "data": {
            "text/plain": [
              "Epoch 15/15:   0%|          | 0/15 [00:00<?, ?it/s]"
            ],
            "application/vnd.jupyter.widget-view+json": {
              "version_major": 2,
              "version_minor": 0,
              "model_id": "9420b8c8a3bd420eab3b978f58809681"
            }
          },
          "metadata": {}
        },
        {
          "output_type": "stream",
          "name": "stdout",
          "text": [
            "Epoch 15/15, Average Contrastive Loss: 0.9047\n",
            "Two-Tower model saved to /content/drive/MyDrive/Embedding_Based_Recommendations_Project/Datasets/final_datasets/two_tower_model.pth\n"
          ]
        }
      ]
    },
    {
      "cell_type": "code",
      "source": [
        "# --- 4. FAISS Indexing for Fast Retrieval ---\n",
        "print(\"\\n✅ 4. Indexing movie embeddings with FAISS...\")\n",
        "two_tower_model.eval()\n",
        "\n",
        "# First, get the fine-tuned latent vectors for all movies\n",
        "with torch.no_grad():\n",
        "    _, all_movie_latents = two_tower_model(torch.zeros(len(movies_df), USER_EMB_DIM).to(device), movie_embs_tensor)\n",
        "all_movie_latents_np = all_movie_latents.cpu().numpy()\n",
        "\n",
        "# Create a FAISS index for dot product similarity\n",
        "faiss_index = faiss.IndexFlatIP(LATENT_DIM)\n",
        "# Add all the movie latent vectors to the index\n",
        "faiss_index.add(all_movie_latents_np)\n",
        "print(f\"FAISS index created with {faiss_index.ntotal} movie vectors.\")"
      ],
      "metadata": {
        "colab": {
          "base_uri": "https://localhost:8080/"
        },
        "id": "5w_O-QOAcztZ",
        "outputId": "4feeb0a7-9034-406c-fdc0-781f15ffcad0"
      },
      "execution_count": null,
      "outputs": [
        {
          "output_type": "stream",
          "name": "stdout",
          "text": [
            "\n",
            "✅ 4. Indexing movie embeddings with FAISS...\n",
            "FAISS index created with 1983 movie vectors.\n"
          ]
        }
      ]
    },
    {
      "cell_type": "code",
      "execution_count": null,
      "metadata": {
        "id": "aDBgfASSX_O1"
      },
      "outputs": [],
      "source": [
        "# --- 5. MMR Re-ranking and Final Recommendation Function ---\n",
        "def rerank_with_mmr(user_vec, candidate_indices, candidate_latents, top_k=10, lambda_param=0.5):\n",
        "    \"\"\"Re-ranks candidates using Maximum Marginal Relevance.\"\"\"\n",
        "    final_recs_indices = []\n",
        "\n",
        "    # Calculate relevance scores (user-item similarity)\n",
        "    relevance_scores = cosine_similarity(user_vec, candidate_latents)[0]\n",
        "\n",
        "    while len(final_recs_indices) < top_k and len(candidate_indices) > 0:\n",
        "        best_score = -np.inf\n",
        "        best_idx_pos = -1\n",
        "\n",
        "        for i in range(len(candidate_indices)):\n",
        "            cand_idx = candidate_indices[i]\n",
        "\n",
        "            # Calculate diversity score (dissimilarity to already selected items)\n",
        "            diversity_score = 0\n",
        "            if final_recs_indices:\n",
        "                selected_latents = all_movie_latents_np[final_recs_indices]\n",
        "                dissimilarity = 1 - cosine_similarity(candidate_latents[i].reshape(1, -1), selected_latents)\n",
        "                diversity_score = np.min(dissimilarity) # Use min dissimilarity for MMR\n",
        "\n",
        "            # MMR Score = lambda * Relevance - (1 - lambda) * Similarity_to_selected\n",
        "            # We use 1-cos_sim for similarity, so we add diversity here\n",
        "            mmr_score = lambda_param * relevance_scores[i] + (1 - lambda_param) * diversity_score\n",
        "\n",
        "            if mmr_score > best_score:\n",
        "                best_score = mmr_score\n",
        "                best_idx_pos = i\n",
        "\n",
        "        # Add the best item to our list and remove it from candidates\n",
        "        best_item_original_idx = candidate_indices.pop(best_idx_pos)\n",
        "        final_recs_indices.append(best_item_original_idx)\n",
        "        # Also remove from relevance scores and candidate latents\n",
        "        relevance_scores = np.delete(relevance_scores, best_idx_pos)\n",
        "        candidate_latents = np.delete(candidate_latents, best_idx_pos, axis=0)\n",
        "\n",
        "    return final_recs_indices\n",
        "\n",
        "def get_recommendations(user_id, top_k=10):\n",
        "    \"\"\"Main function to get personalized and diverse recommendations.\"\"\"\n",
        "    print(\"\\n\" + \"=\"*80)\n",
        "    print(f\"RECOMMENDATIONS FOR USER: {user_id}\")\n",
        "    print(\"=\"*80)\n",
        "\n",
        "    # 1. Get fine-tuned user embedding\n",
        "    user_idx = user_id_to_idx[user_id]\n",
        "    user_vec = user_embs_tensor[user_idx].unsqueeze(0)\n",
        "    with torch.no_grad():\n",
        "        user_latent, _ = two_tower_model(user_vec, torch.zeros(1, MOVIE_EMB_DIM).to(device))\n",
        "    user_latent_np = user_latent.cpu().numpy()\n",
        "\n",
        "    # 2. Candidate Generation with FAISS\n",
        "    # Retrieve top 100 candidates to re-rank from\n",
        "    candidate_count = 100\n",
        "    _, candidate_indices = faiss_index.search(user_latent_np, candidate_count)\n",
        "    candidate_indices = candidate_indices[0]\n",
        "    candidate_latents = all_movie_latents_np[candidate_indices]\n",
        "\n",
        "    # 3. Re-ranking with MMR\n",
        "    final_indices = rerank_with_mmr(user_latent_np, list(candidate_indices), candidate_latents, top_k=top_k, lambda_param=0.7)\n",
        "\n",
        "    # 4. Display Results\n",
        "    watched_movie_ids = set(interactions_df[interactions_df['userId'] == user_id]['watched_movie_ids'].iloc[0])\n",
        "    print(f\"Top {top_k} diverse recommendations:\")\n",
        "    for i, idx in enumerate(final_indices):\n",
        "        movie = movies_df.iloc[idx]\n",
        "        watched_marker = \"✅ (Already Watched)\" if movie['tmdb_id'] in watched_movie_ids else \"\"\n",
        "        print(f\"{i+1}. {movie['title']:<40} | Genre: {movie['primary_genre']} {watched_marker}\")"
      ]
    },
    {
      "cell_type": "code",
      "source": [
        "# --- 6. Demonstrate the System ---\n",
        "print(\"\\n✅ 5. Generating final recommendations for a sample user...\")\n",
        "sample_user_id = user_embs_df.index[0]\n",
        "get_recommendations(sample_user_id)"
      ],
      "metadata": {
        "colab": {
          "base_uri": "https://localhost:8080/"
        },
        "id": "n2TqTbWRdKpw",
        "outputId": "f35bcba4-872e-4a9e-ff72-423b49000402"
      },
      "execution_count": null,
      "outputs": [
        {
          "output_type": "stream",
          "name": "stdout",
          "text": [
            "\n",
            "✅ 5. Generating final recommendations for a sample user...\n",
            "\n",
            "================================================================================\n",
            "RECOMMENDATIONS FOR USER: 2\n",
            "================================================================================\n",
            "Top 10 diverse recommendations:\n",
            "1. Quiz Show                                | Genre: History ✅ (Already Watched)\n",
            "2. Virus                                    | Genre: Horror \n",
            "3. Hot Shots! Part Deux                     | Genre: Action \n",
            "4. Evil Toons                               | Genre: Comedy \n",
            "5. Splitting Heirs                          | Genre: Comedy \n",
            "6. Pleasantville                            | Genre: Fantasy \n",
            "7. Contact                                  | Genre: Drama \n",
            "8. Little Odessa                            | Genre: Action \n",
            "9. Harry Potter and the Chamber of Secrets  | Genre: Adventure \n",
            "10. Mr. & Mrs. Smith                         | Genre: Action \n"
          ]
        }
      ]
    },
    {
      "cell_type": "markdown",
      "source": [
        "----------"
      ],
      "metadata": {
        "id": "BXL45PjkmRa3"
      }
    }
  ]
}