{
  "nbformat": 4,
  "nbformat_minor": 0,
  "metadata": {
    "colab": {
      "provenance": []
    },
    "kernelspec": {
      "name": "python3",
      "display_name": "Python 3"
    },
    "language_info": {
      "name": "python"
    }
  },
  "cells": [
    {
      "cell_type": "code",
      "source": [
        "import pandas as pd\n",
        "import numpy as np\n",
        "import os\n",
        "import ast\n",
        "from sklearn.model_selection import train_test_split\n",
        "from collections import Counter"
      ],
      "metadata": {
        "id": "fPEiLjpSGVka"
      },
      "execution_count": null,
      "outputs": []
    },
    {
      "cell_type": "code",
      "source": [
        "# --- Mount Google Drive and Define Paths ---\n",
        "from google.colab import drive\n",
        "drive.mount('/content/drive')\n",
        "\n",
        "drive_path = '/content/drive/MyDrive/Embedding_Based_Recommendations_Project/Datasets/final_datasets/'\n",
        "full_dataset_parquet_path = os.path.join(drive_path, 'multimodal_movies_full_dataset_for_publication.parquet')\n",
        "output_stratified_parquet_path = os.path.join(drive_path, 'multimodal_movies_stratified_prototype_dataset.parquet')\n"
      ],
      "metadata": {
        "colab": {
          "base_uri": "https://localhost:8080/"
        },
        "id": "P4ZJN8XQxWhD",
        "outputId": "3b7237d5-71cb-4265-e385-5880d52917b2"
      },
      "execution_count": null,
      "outputs": [
        {
          "output_type": "stream",
          "name": "stdout",
          "text": [
            "Drive already mounted at /content/drive; to attempt to forcibly remount, call drive.mount(\"/content/drive\", force_remount=True).\n"
          ]
        }
      ]
    },
    {
      "cell_type": "code",
      "source": [
        "# --- Load the Full Dataset ---\n",
        "print(f\"Loading full dataset from: {full_dataset_parquet_path}\")\n",
        "if not os.path.exists(full_dataset_parquet_path):\n",
        "    print(f\"Error: Full dataset Parquet file not found at {full_dataset_parquet_path}.\")\n",
        "    print(\"Please ensure you uploaded it from your local PC to this Drive path.\")\n",
        "    raise FileNotFoundError(\"Full dataset not found. Cannot perform stratification.\")\n",
        "\n",
        "try:\n",
        "    full_movies_df = pd.read_parquet(full_dataset_parquet_path)\n",
        "    print(f\"Dataset loaded successfully. Original shape: {full_movies_df.shape}\")\n",
        "    print(\"Initial Columns (from loaded Parquet):\", full_movies_df.columns.tolist())\n",
        "except Exception as e:\n",
        "    print(f\"Error loading Parquet file: {e}\")\n",
        "    raise"
      ],
      "metadata": {
        "colab": {
          "base_uri": "https://localhost:8080/"
        },
        "id": "IOITfKXCxZs0",
        "outputId": "9e03f937-977e-4c45-bc5f-825faf8203dc"
      },
      "execution_count": null,
      "outputs": [
        {
          "output_type": "stream",
          "name": "stdout",
          "text": [
            "Loading full dataset from: /content/drive/MyDrive/Embedding_Based_Recommendations_Project/Datasets/final_datasets/multimodal_movies_full_dataset_for_publication.parquet\n",
            "Dataset loaded successfully. Original shape: (44600, 27)\n",
            "Initial Columns (from loaded Parquet): ['tmdb_id', 'title', 'plot_description', 'genres', 'adult', 'tagline', 'director', 'writer', 'composer', 'cinematographer', 'editor', 'productiondesigner', 'artdirector', 'main_actors', 'crew_text_features', 'cast_text_features', 'original_language', 'runtime', 'vote_average', 'vote_count', 'release_date', 'popularity', 'budget', 'revenue', 'Poster_available', 'poster_byte', 'avg_rgb_color']\n"
          ]
        }
      ]
    },
    {
      "cell_type": "code",
      "source": [
        "# --- Define Helper Parsing Function ---\n",
        "# This function is for consistently parsing list-like string columns\n",
        "def parse_list_column_corrected(list_str):\n",
        "    if isinstance(list_str, str):\n",
        "        try:\n",
        "            parsed_literal = ast.literal_eval(list_str)\n",
        "            if isinstance(parsed_literal, list):\n",
        "                extracted_items = []\n",
        "                for item in parsed_literal:\n",
        "                    if isinstance(item, dict) and 'name' in item:\n",
        "                        extracted_items.append(item['name'].strip())\n",
        "                    elif isinstance(item, str): # Handle cases where it might just be a list of strings\n",
        "                        extracted_items.append(item.strip())\n",
        "                return [item for item in extracted_items if item] # Filter out empty strings\n",
        "            else: # If it's a single dictionary or other non-list type\n",
        "                if isinstance(parsed_literal, dict) and 'name' in parsed_literal:\n",
        "                    return [parsed_literal['name'].strip()]\n",
        "        except (ValueError, SyntaxError):\n",
        "            # Fallback for pipe-separated string (e.g., \"Action|Comedy\") if literal_eval fails\n",
        "            return [g.strip() for g in list_str.split('|') if g.strip()]\n",
        "    return [] # Return empty list for NaN, empty strings, or unparseable values\n"
      ],
      "metadata": {
        "id": "DrguTJl8xcl8"
      },
      "execution_count": null,
      "outputs": []
    },
    {
      "cell_type": "code",
      "source": [
        "# ---  Prepare All Derived Columns for Filtering and Stratification ---\n",
        "print(\"\\nPreparing all derived columns for filtering and stratification...\")\n",
        "\n",
        "# --- Column Renaming for Consistency ---\n",
        "if 'director' in full_movies_df.columns and 'directors' not in full_movies_df.columns:\n",
        "    full_movies_df.rename(columns={'director': 'directors'}, inplace=True)\n",
        "    print(\"Renamed 'director' column to 'directors' for consistency.\")\n",
        "\n",
        "\n",
        "# --- Parse list-like columns ---\n",
        "list_columns_to_parse = [\n",
        "    'genres', 'directors', 'writer', 'composer', 'cinematographer', 'editor',\n",
        "    'productiondesigner', 'artdirector', 'main_actors'\n",
        "]\n",
        "# Ensure new _parsed columns are created based on existing original columns\n",
        "for col in list_columns_to_parse:\n",
        "    if col in full_movies_df.columns:\n",
        "        full_movies_df[f'{col}_parsed'] = full_movies_df[col].apply(parse_list_column_corrected)\n",
        "    else:\n",
        "        # If original column somehow missing, create empty parsed column to avoid errors later\n",
        "        print(f\"Warning: Original column '{col}' not found. '{col}_parsed' will be empty.\")\n",
        "        full_movies_df[f'{col}_parsed'] = [[]] * len(full_movies_df)"
      ],
      "metadata": {
        "colab": {
          "base_uri": "https://localhost:8080/"
        },
        "id": "vQH4hEzhxxQM",
        "outputId": "6e811eb5-4930-4f77-abf6-732f0a889f45"
      },
      "execution_count": null,
      "outputs": [
        {
          "output_type": "stream",
          "name": "stdout",
          "text": [
            "\n",
            "Preparing all derived columns for filtering and stratification...\n",
            "Renamed 'director' column to 'directors' for consistency.\n"
          ]
        }
      ]
    },
    {
      "cell_type": "code",
      "source": [
        "# --- Derive primary_genre ---\n",
        "# Use 'genres_parsed' which should now always be present and correctly formatted\n",
        "full_movies_df['primary_genre'] = full_movies_df['genres_parsed'].apply(lambda x: x[0] if x else 'Unknown')\n",
        "\n",
        "\n",
        "# --- Prepare release_year for binning ---\n",
        "if 'release_date' in full_movies_df.columns:\n",
        "    full_movies_df['release_date_dt'] = pd.to_datetime(full_movies_df['release_date'], errors='coerce')\n",
        "    full_movies_df['release_year'] = full_movies_df['release_date_dt'].dt.year.astype('Int64')\n",
        "else:\n",
        "    print(\"Warning: 'release_date' column not found. Cannot derive 'release_year'.\")\n",
        "    full_movies_df['release_year'] = pd.NA\n"
      ],
      "metadata": {
        "id": "3iwCdrvq0vY-"
      },
      "execution_count": null,
      "outputs": []
    },
    {
      "cell_type": "code",
      "source": [
        "bins = [1900, 1990, 1995, 2000, 2005, 2010, 2015, 2020, 2030] # Extended lower end for robustness\n",
        "labels = ['Pre-1990', 'Early-90s', 'Late-90s', 'Early-00s', 'Late-00s', 'Early-10s', 'Late-10s', 'Early-20s']\n",
        "\n",
        "full_movies_df['release_year_binned'] = pd.cut(\n",
        "    full_movies_df['release_year'],\n",
        "    bins=bins,\n",
        "    labels=labels[:len(bins)-1], # Slicing labels to match number of bins-1\n",
        "    right=False, # Interval is [left, right)\n",
        "    include_lowest=True\n",
        ").astype(object).fillna('Unknown_Year_Bin') # Fill NaN years with a distinct string\n",
        "\n",
        "\n",
        "if 'Poster_available' not in full_movies_df.columns:\n",
        "    # If poster_byte is present, derive from it. Otherwise, assume False.\n",
        "    if 'poster_byte' in full_movies_df.columns:\n",
        "        full_movies_df['Poster_available'] = full_movies_df['poster_byte'].notna()\n",
        "    else:\n",
        "        print(\"Warning: 'Poster_available' and 'poster_byte' columns not found. Assuming all posters unavailable.\")\n",
        "        full_movies_df['Poster_available'] = False\n",
        "full_movies_df['Poster_available'] = full_movies_df['Poster_available'].astype(bool)\n",
        "\n",
        "print(\"\\nDerived columns created. Sample of these columns:\")\n",
        "print(full_movies_df[['primary_genre', 'release_year_binned', 'Poster_available']].head())\n"
      ],
      "metadata": {
        "colab": {
          "base_uri": "https://localhost:8080/"
        },
        "id": "xifW0jJd08_o",
        "outputId": "fd895327-acb1-4bc9-9683-dbac326aeb7a"
      },
      "execution_count": null,
      "outputs": [
        {
          "output_type": "stream",
          "name": "stdout",
          "text": [
            "\n",
            "Derived columns created. Sample of these columns:\n",
            "  primary_genre release_year_binned  Poster_available\n",
            "0     Animation            Late-90s             False\n",
            "1     Adventure            Late-90s              True\n",
            "2       Romance            Late-90s             False\n",
            "3        Comedy            Late-90s             False\n",
            "4        Comedy            Late-90s             False\n"
          ]
        }
      ]
    },
    {
      "cell_type": "code",
      "source": [
        "print(\"\\nApplying initial filters (English movies, release year >= 1990) for stratification source...\")\n",
        "filtered_df_for_stratification = full_movies_df.copy()\n",
        "\n",
        "# Filter by original_language == 'en'\n",
        "initial_filter_shape = filtered_df_for_stratification.shape[0]\n",
        "if 'original_language' in filtered_df_for_stratification.columns:\n",
        "    filtered_df_for_stratification = filtered_df_for_stratification[\n",
        "        filtered_df_for_stratification['original_language'] == 'en'\n",
        "    ].copy()\n",
        "    print(f\"Filtered to English movies only. Shape: {filtered_df_for_stratification.shape} ({initial_filter_shape - filtered_df_for_stratification.shape[0]} removed).\")\n",
        "else:\n",
        "    print(\"Warning: 'original_language' column not found. Cannot filter by language.\")\n",
        "\n",
        "# Filter by release_year >= 1990\n",
        "year_filter_threshold = 1990\n",
        "if 'release_year' in filtered_df_for_stratification.columns:\n",
        "    initial_filter_shape = filtered_df_for_stratification.shape[0]\n",
        "    filtered_df_for_stratification = filtered_df_for_stratification[\n",
        "        filtered_df_for_stratification['release_year'] >= year_filter_threshold\n",
        "    ].copy()\n",
        "    print(f\"Filtered to movies released in {year_filter_threshold} or later. Shape: {filtered_df_for_stratification.shape} ({initial_filter_shape - filtered_df_for_stratification.shape[0]} removed).\")\n",
        "else:\n",
        "    print(\"Warning: 'release_year' column not found. Cannot filter by release year.\")\n",
        "\n",
        "print(f\"DataFrame shape after initial filtering for stratification source: {filtered_df_for_stratification.shape}\")\n",
        "\n"
      ],
      "metadata": {
        "colab": {
          "base_uri": "https://localhost:8080/"
        },
        "id": "fSWA58gd1AQs",
        "outputId": "0c2d03bb-d8ea-45c9-eb31-2d098d7af322"
      },
      "execution_count": null,
      "outputs": [
        {
          "output_type": "stream",
          "name": "stdout",
          "text": [
            "\n",
            "Applying initial filters (English movies, release year >= 1990) for stratification source...\n",
            "Filtered to English movies only. Shape: (32263, 40) (12337 removed).\n",
            "Filtered to movies released in 1990 or later. Shape: (20964, 40) (11299 removed).\n",
            "DataFrame shape after initial filtering for stratification source: (20964, 40)\n"
          ]
        }
      ]
    },
    {
      "cell_type": "code",
      "source": [
        "# --- Create the Composite Stratification Key ---\n",
        "# This key combines Primary Genre, Release Year Bin, and Poster Availability\n",
        "filtered_df_for_stratification['stratify_key'] = \\\n",
        "    filtered_df_for_stratification['primary_genre'] + '_' + \\\n",
        "    filtered_df_for_stratification['release_year_binned'].astype(str) + '_' + \\\n",
        "    filtered_df_for_stratification['Poster_available'].astype(str)\n",
        "\n",
        "\n",
        "# --- Handle Sparse Strata for Robust Stratification ---\n",
        "print(\"\\nHandling sparse strata for robust stratification...\")\n",
        "stratify_key_counts = filtered_df_for_stratification['stratify_key'].value_counts()\n",
        "min_samples_per_stratum = 5\n",
        "rare_strata = stratify_key_counts[stratify_key_counts < min_samples_per_stratum].index.tolist()\n",
        "\n",
        "if rare_strata:\n",
        "    print(f\"Grouping {len(rare_strata)} rare composite strata (less than {min_samples_per_stratum} movies) into 'Other_Stratum'.\")\n",
        "    filtered_df_for_stratification['stratify_key_final'] = filtered_df_for_stratification['stratify_key'].replace(rare_strata, 'Other_Stratum')\n",
        "else:\n",
        "    filtered_df_for_stratification['stratify_key_final'] = filtered_df_for_stratification['stratify_key']\n",
        "\n",
        "print(\"Distribution of final stratification keys (Top 20, after grouping rare ones):\")\n",
        "print(filtered_df_for_stratification['stratify_key_final'].value_counts(normalize=True).head(20))\n"
      ],
      "metadata": {
        "colab": {
          "base_uri": "https://localhost:8080/"
        },
        "id": "oCxvhWKm1Gv9",
        "outputId": "9f0336fd-6f47-4e2c-b32f-dc5723c92e07"
      },
      "execution_count": null,
      "outputs": [
        {
          "output_type": "stream",
          "name": "stdout",
          "text": [
            "\n",
            "Handling sparse strata for robust stratification...\n",
            "Grouping 42 rare composite strata (less than 5 movies) into 'Other_Stratum'.\n",
            "Distribution of final stratification keys (Top 20, after grouping rare ones):\n",
            "stratify_key_final\n",
            "Drama_Early-10s_False          0.057909\n",
            "Drama_Late-00s_False           0.047796\n",
            "Documentary_Early-10s_False    0.046079\n",
            "Comedy_Late-00s_False          0.045077\n",
            "Comedy_Early-10s_False         0.044648\n",
            "Drama_Early-00s_False          0.032675\n",
            "Documentary_Late-00s_False     0.028811\n",
            "Comedy_Early-00s_False         0.027905\n",
            "Drama_Late-90s_False           0.027380\n",
            "Comedy_Late-90s_False          0.023087\n",
            "Horror_Early-10s_False         0.021370\n",
            "Action_Early-10s_False         0.020750\n",
            "Action_Late-00s_False          0.020368\n",
            "Drama_Late-10s_False           0.020177\n",
            "Comedy_Late-10s_False          0.018699\n",
            "Drama_Early-90s_False          0.018174\n",
            "Action_Early-00s_False         0.016027\n",
            "Thriller_Early-10s_False       0.015741\n",
            "Comedy_Early-90s_False         0.015598\n",
            "Horror_Late-00s_False          0.015264\n",
            "Name: proportion, dtype: float64\n"
          ]
        }
      ]
    },
    {
      "cell_type": "code",
      "source": [
        "desired_prototype_size = 2000 # Sample size for the prototype\n",
        "num_posters_false_in_sample = 30 # Number of movies WITHOUT posters to include (between 20-30)\n",
        "\n",
        "print(f\"\\nPerforming stratified sampling with custom handling for Poster_available=False ({num_posters_false_in_sample} movies)...\")\n",
        "\n",
        "# Separate movies by Poster_available flag\n",
        "df_poster_false = filtered_df_for_stratification[filtered_df_for_stratification['Poster_available'] == False].copy()\n",
        "df_poster_true = filtered_df_for_stratification[filtered_df_for_stratification['Poster_available'] == True].copy()\n",
        "\n",
        "# Sample Poster_available = False movies\n",
        "if df_poster_false.shape[0] < num_posters_false_in_sample:\n",
        "    print(f\"Warning: Not enough movies with Poster_available=False ({df_poster_false.shape[0]}) to meet desired {num_posters_false_in_sample}. Taking all available.\")\n",
        "    sampled_false_posters_df = df_poster_false.copy()\n",
        "else:\n",
        "    sampled_false_posters_df = df_poster_false.sample(n=num_posters_false_in_sample, random_state=42).copy()\n"
      ],
      "metadata": {
        "colab": {
          "base_uri": "https://localhost:8080/"
        },
        "id": "DsoH5m8L1Kta",
        "outputId": "08e813d8-70b9-4549-fa75-63f358a87820"
      },
      "execution_count": null,
      "outputs": [
        {
          "output_type": "stream",
          "name": "stdout",
          "text": [
            "\n",
            "Performing stratified sampling with custom handling for Poster_available=False (30 movies)...\n"
          ]
        }
      ]
    },
    {
      "cell_type": "code",
      "source": [
        "# Sample Poster_available = True movies (stratified by composite key)\n",
        "remaining_sample_size_for_true = desired_prototype_size - sampled_false_posters_df.shape[0]\n",
        "\n",
        "if remaining_sample_size_for_true <= 0:\n",
        "    print(\"Desired sample size is met or exceeded by False posters. Not sampling True posters.\")\n",
        "    sampled_true_posters_df = pd.DataFrame(columns=filtered_df_for_stratification.columns) # Empty DataFrame\n",
        "elif df_poster_true.empty:\n",
        "    print(\"Warning: No movies with Poster_available=True available to sample.\")\n",
        "    sampled_true_posters_df = pd.DataFrame(columns=filtered_df_for_stratification.columns) # Empty DataFrame\n",
        "else:\n",
        "    valid_strata_true = df_poster_true['stratify_key_final'].value_counts()\n",
        "    problematic_strata_true = valid_strata_true[valid_strata_true < 2].index.tolist()\n",
        "\n",
        "    df_for_stratified_split_true = df_poster_true.copy()\n",
        "    if problematic_strata_true:\n",
        "        print(f\"  Filtering {len(problematic_strata_true)} problematic strata from Poster_available=True sampling.\")\n",
        "        df_for_stratified_split_true = df_poster_true[~df_poster_true['stratify_key_final'].isin(problematic_strata_true)].copy()\n",
        "\n",
        "    if df_for_stratified_split_true.empty:\n",
        "        print(\"Warning: No valid data left for stratified sampling of Poster_available=True movies.\")\n",
        "        sampled_true_posters_df = pd.DataFrame(columns=filtered_df_for_stratification.columns)\n",
        "    else:\n",
        "        actual_sample_size_for_true = min(remaining_sample_size_for_true, df_for_stratified_split_true.shape[0])\n",
        "\n",
        "        sample_fraction_to_keep_true = actual_sample_size_for_true / df_for_stratified_split_true.shape[0]\n",
        "\n",
        "        if sample_fraction_to_keep_true >= 1.0:\n",
        "            sampled_true_posters_df = df_for_stratified_split_true.copy()\n",
        "        else:\n",
        "            _, sampled_true_posters_df = train_test_split(\n",
        "                df_for_stratified_split_true,\n",
        "                test_size=sample_fraction_to_keep_true, # This is the fraction of data to put in the 'test' split (our sample)\n",
        "                stratify=df_for_stratified_split_true['stratify_key_final'],\n",
        "                random_state=42 # For reproducibility\n",
        "            )\n"
      ],
      "metadata": {
        "id": "nFn8KijV1P_8"
      },
      "execution_count": null,
      "outputs": []
    },
    {
      "cell_type": "code",
      "source": [
        "stratified_prototype_df = pd.concat([sampled_false_posters_df, sampled_true_posters_df]).reset_index(drop=True)\n",
        "\n",
        "print(f\"\\nFinal stratified prototype DataFrame shape: {stratified_prototype_df.shape}\")\n",
        "print(f\"  ({stratified_prototype_df['Poster_available'].sum()} movies with posters, \"\n",
        "      f\"{len(stratified_prototype_df) - stratified_prototype_df['Poster_available'].sum()} movies without posters)\")\n",
        "\n"
      ],
      "metadata": {
        "colab": {
          "base_uri": "https://localhost:8080/"
        },
        "id": "2i2ng-Ty1UZF",
        "outputId": "3efca9b9-9431-403f-d539-2002578b8588"
      },
      "execution_count": null,
      "outputs": [
        {
          "output_type": "stream",
          "name": "stdout",
          "text": [
            "\n",
            "Final stratified prototype DataFrame shape: (2000, 42)\n",
            "  (1970 movies with posters, 30 movies without posters)\n"
          ]
        }
      ]
    },
    {
      "cell_type": "code",
      "source": [
        "# --- Finalize and Save Sampled Dataset ---\n",
        "columns_to_drop_from_final = [\n",
        "    'genres_parsed', 'primary_genre', 'release_date_dt', 'release_year',\n",
        "    'release_year_binned', 'stratify_key', 'stratify_key_final'\n",
        "]\n",
        "\n",
        "stratified_prototype_df.drop(columns=[col for col in columns_to_drop_from_final if col in stratified_prototype_df.columns], inplace=True, errors='ignore')\n",
        "\n",
        "stratified_prototype_df.to_parquet(output_stratified_parquet_path, index=False)"
      ],
      "metadata": {
        "id": "ha0wF6YS1X2Z"
      },
      "execution_count": null,
      "outputs": []
    },
    {
      "cell_type": "markdown",
      "source": [
        "--------------"
      ],
      "metadata": {
        "id": "oKB-pS3-Her1"
      }
    }
  ]
}